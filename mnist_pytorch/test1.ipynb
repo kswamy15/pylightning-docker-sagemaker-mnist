{
 "cells": [
  {
   "cell_type": "code",
   "execution_count": 1,
   "id": "d5104d00-c7a3-4b82-b050-9b91e130b537",
   "metadata": {},
   "outputs": [],
   "source": [
    "import argparse\n",
    "import os\n",
    "\n",
    "# default pytorch import\n",
    "import torch\n",
    "\n",
    "# import lightning library\n",
    "import pytorch_lightning as pl\n",
    "\n",
    "# import trainer class, which orchestrates our model training\n",
    "from pytorch_lightning import Trainer\n",
    "from pytorch_lightning.loggers import TensorBoardLogger\n",
    "from pytorch_lightning.loggers import MLFlowLogger\n",
    "\n",
    "# import our model class, to be trained\n",
    "from MNISTClassifier import MNISTClassifier"
   ]
  },
  {
   "cell_type": "code",
   "execution_count": 9,
   "id": "ce87e2f2-855a-4609-ae5c-41536e2d25d6",
   "metadata": {},
   "outputs": [
    {
     "data": {
      "text/plain": [
       "'1.5.1'"
      ]
     },
     "execution_count": 9,
     "metadata": {},
     "output_type": "execute_result"
    }
   ],
   "source": [
    "pl.__version__"
   ]
  },
  {
   "cell_type": "code",
   "execution_count": 6,
   "id": "4aa97aa1-5b91-4f70-8762-62122f87b96f",
   "metadata": {},
   "outputs": [],
   "source": [
    "parser = argparse.ArgumentParser()\n",
    "\n",
    "# hyperparameters sent by the client are passed as command-line arguments to the script.\n",
    "parser.add_argument('--epochs', type=int, default=2)\n",
    "parser.add_argument('--batch-size', type=int, default=64)\n",
    "parser.add_argument('--gpus', type=int, default=0) # used to support multi-GPU or CPU training\n",
    "\n",
    "# Data, model, and output directories. Passed by sagemaker with default to os env variables\n",
    "#parser.add_argument('-o','--output-data-dir', type=str, default=os.environ.get('SM_OUTPUT_DATA_DIR'))\n",
    "#parser.add_argument('-m','--model-dir', type=str, default=os.environ.get('SM_MODEL_DIR'))\n",
    "#parser.add_argument('-tr','--train', type=str, default=os.environ.get('SM_CHANNEL_TRAIN'))\n",
    "#parser.add_argument('-te','--test', type=str, default=os.environ.get('SM_CHANNEL_TEST'))\n",
    "\n",
    "args, _ = parser.parse_known_args()"
   ]
  },
  {
   "cell_type": "code",
   "execution_count": 7,
   "id": "35d7d22d-0df7-4493-8556-27a21aec1cf9",
   "metadata": {},
   "outputs": [
    {
     "name": "stderr",
     "output_type": "stream",
     "text": [
      "GPU available: False, used: False\n",
      "TPU available: False, using: 0 TPU cores\n",
      "IPU available: False, using: 0 IPUs\n"
     ]
    }
   ],
   "source": [
    "tb_logger = TensorBoardLogger(save_dir=\"logs/\",\")\n",
    "mnistTrainer=pl.Trainer(gpus=args.gpus, max_epochs=args.epochs,logger=tb_logger)\n",
    "\n",
    "# Set up our classifier class, passing params to the constructor\n",
    "model = MNISTClassifier(\n",
    "    batch_size=args.batch_size\n",
    "    )"
   ]
  },
  {
   "cell_type": "code",
   "execution_count": 8,
   "id": "e9972761-8001-4cfb-857a-6f06ce733c3f",
   "metadata": {},
   "outputs": [
    {
     "name": "stderr",
     "output_type": "stream",
     "text": [
      "\n",
      "  | Name    | Type   | Params\n",
      "-----------------------------------\n",
      "0 | layer_1 | Linear | 100 K \n",
      "1 | layer_2 | Linear | 33.0 K\n",
      "2 | layer_3 | Linear | 2.6 K \n",
      "-----------------------------------\n",
      "136 K     Trainable params\n",
      "0         Non-trainable params\n",
      "136 K     Total params\n",
      "0.544     Total estimated model params size (MB)\n"
     ]
    },
    {
     "data": {
      "application/vnd.jupyter.widget-view+json": {
       "model_id": "",
       "version_major": 2,
       "version_minor": 0
      },
      "text/plain": [
       "Validation sanity check: 0it [00:00, ?it/s]"
      ]
     },
     "metadata": {},
     "output_type": "display_data"
    },
    {
     "data": {
      "application/vnd.jupyter.widget-view+json": {
       "model_id": "9df5eeece3c74f0c96e6800c52799f54",
       "version_major": 2,
       "version_minor": 0
      },
      "text/plain": [
       "Training: 0it [00:00, ?it/s]"
      ]
     },
     "metadata": {},
     "output_type": "display_data"
    },
    {
     "data": {
      "application/vnd.jupyter.widget-view+json": {
       "model_id": "",
       "version_major": 2,
       "version_minor": 0
      },
      "text/plain": [
       "Validating: 0it [00:00, ?it/s]"
      ]
     },
     "metadata": {},
     "output_type": "display_data"
    },
    {
     "data": {
      "application/vnd.jupyter.widget-view+json": {
       "model_id": "",
       "version_major": 2,
       "version_minor": 0
      },
      "text/plain": [
       "Validating: 0it [00:00, ?it/s]"
      ]
     },
     "metadata": {},
     "output_type": "display_data"
    }
   ],
   "source": [
    "# Runs model training \n",
    "mnistTrainer.fit(model)"
   ]
  },
  {
   "cell_type": "code",
   "execution_count": null,
   "id": "88684e7e-e400-46d9-a062-6322cbcbe0f6",
   "metadata": {},
   "outputs": [],
   "source": []
  }
 ],
 "metadata": {
  "kernelspec": {
   "display_name": "Python 3 (ipykernel)",
   "language": "python",
   "name": "python3"
  },
  "language_info": {
   "codemirror_mode": {
    "name": "ipython",
    "version": 3
   },
   "file_extension": ".py",
   "mimetype": "text/x-python",
   "name": "python",
   "nbconvert_exporter": "python",
   "pygments_lexer": "ipython3",
   "version": "3.7.11"
  }
 },
 "nbformat": 4,
 "nbformat_minor": 5
}
